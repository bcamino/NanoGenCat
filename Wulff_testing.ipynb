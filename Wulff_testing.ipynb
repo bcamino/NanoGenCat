{
 "cells": [
  {
   "cell_type": "code",
   "execution_count": 3,
   "id": "ebabdf9c",
   "metadata": {},
   "outputs": [],
   "source": [
    "from pymatgen.analysis.wulff import WulffShape\n",
    "\n",
    "# Import the necessary tools to generate surfaces\n",
    "from pymatgen.core.surface import Lattice, SlabGenerator, Structure, generate_all_slabs\n",
    "\n",
    "from pymatgen.io.ase import AseAtomsAdaptor\n",
    "from pymatgen.io.cif import CifWriter\n",
    "\n",
    "from ase.visualize import view\n",
    "\n",
    "from pymatgen.core.structure import Structure\n",
    "from pymatgen.symmetry.analyzer import SpacegroupAnalyzer\n",
    "from pymatgen.io.ase import AseAtomsAdaptor"
   ]
  },
  {
   "cell_type": "code",
   "execution_count": 4,
   "id": "2a261786",
   "metadata": {},
   "outputs": [],
   "source": [
    "lattice = Lattice.cubic(3.508)\n",
    "Ni = Structure(\n",
    "    lattice,\n",
    "    [\"Ni\", \"Ni\", \"Ni\", \"Ni\"],\n",
    "    [[0, 0, 0], [0, 0.5, 0], [0.5, 0, 0], [0, 0, 0.5]],\n",
    ")\n",
    "structure = Ni"
   ]
  },
  {
   "cell_type": "code",
   "execution_count": 3,
   "id": "b6dff1be",
   "metadata": {},
   "outputs": [],
   "source": [
    "slabgen = SlabGenerator(Ni, (1, 1, 1), 10, 10)\n",
    "\n",
    "all_slabs = slabgen.get_slabs()"
   ]
  },
  {
   "cell_type": "code",
   "execution_count": 7,
   "id": "d85c7406",
   "metadata": {},
   "outputs": [
    {
     "name": "stdout",
     "output_type": "stream",
     "text": [
      "shape factor: 5.178, anisotropy: 0.070, weighted surface energy: 2.035 J/m^2\n"
     ]
    }
   ],
   "source": [
    "surface_energies_Ni = surface_energies_Ni = {\n",
    "    (3, 2, 0): 2.3869,\n",
    "    (1, 1, 0): 2.2862,\n",
    "    (3, 1, 0): 2.3964,\n",
    "    (2, 1, 0): 2.3969,\n",
    "    (3, 3, 2): 2.0944,\n",
    "    (1, 0, 0): 2.2084,\n",
    "    (2, 1, 1): 2.2353,\n",
    "    (3, 2, 2): 2.1242,\n",
    "    (3, 2, 1): 2.3183,\n",
    "    (2, 2, 1): 2.1732,\n",
    "    (3, 3, 1): 2.2288,\n",
    "    (3, 1, 1): 2.3039,\n",
    "    (1, 1, 1): 1.9235,\n",
    "}\n",
    "'''surface_energies_Ni = surface_energies_Ni = {\n",
    "    (1, 0, 0): 2.2084,\n",
    "}'''\n",
    "miller_list = surface_energies_Ni.keys()\n",
    "e_surf_list = surface_energies_Ni.values()\n",
    "\n",
    "# We can now construct a Wulff shape with an accuracy up to a max Miller index of 3\n",
    "wulffshape = WulffShape(Ni.lattice, miller_list, e_surf_list)\n",
    "\n",
    "# Let's get some useful information from our wulffshape object\n",
    "print(\n",
    "    \"shape factor: %.3f, anisotropy: \\\n",
    "%.3f, weighted surface energy: %.3f J/m^2\"\n",
    "    % (\n",
    "        wulffshape.shape_factor,\n",
    "        wulffshape.anisotropy,\n",
    "        wulffshape.weighted_surface_energy,\n",
    "    )\n",
    ")\n",
    "\n",
    "\n",
    "# If we want to see what our Wulff shape looks like\n",
    "#wulffshape.show()"
   ]
  },
  {
   "cell_type": "markdown",
   "id": "4f78f888",
   "metadata": {},
   "source": [
    "## Make sized cluster"
   ]
  },
  {
   "cell_type": "code",
   "execution_count": 10,
   "id": "da7c87f2",
   "metadata": {},
   "outputs": [
    {
     "data": {
      "text/plain": [
       "100.00000000000007"
      ]
     },
     "execution_count": 10,
     "metadata": {},
     "output_type": "execute_result"
    }
   ],
   "source": [
    "import numpy as np\n",
    "\n",
    "lattice =  np.array(  [[0.000000000000E+00 ,  0.210850000000E+01 ,  0.210850000000E+01],\n",
    "   [0.210850000000E+01 ,  0.000000000000E+00  , 0.210850000000E+01],\n",
    "   [0.210850000000E+01 ,  0.210850000000E+01 ,  0.000000000000E+00]])\n",
    "structure = Structure(lattice,['Mg','O'],[[0.,0.,0.],[0.5,0.5,0.5]])\n",
    "structure = SpacegroupAnalyzer(structure).get_conventional_standard_structure()\n",
    "\n",
    "wulffshape = WulffShape(Ni.lattice, miller_list, e_surf_list)\n",
    "atom_density = structure.num_sites/structure.volume\n",
    "wulffshape.volume\n",
    "#wulffshape.wulff_convex.points\n",
    "wulff_atoms_0 = wulffshape.volume * atom_density\n",
    "wulff_atoms_1 = 100\n",
    "\n",
    "new_volume = 100/atom_density\n",
    "volume_ratio = new_volume/wulffshape.volume\n",
    "ratio = volume_ratio**1/3\n",
    "\n",
    "shape = ConvexHull((wulffshape.wulff_convex.points/(wulffshape.volume**(1/3)))*(new_volume**(1/3)))\n",
    "shape.volume*atom_density"
   ]
  },
  {
   "cell_type": "markdown",
   "id": "66a62af5",
   "metadata": {},
   "source": [
    "# Make wulff-shaped NP"
   ]
  },
  {
   "cell_type": "code",
   "execution_count": 9,
   "id": "537b1f81",
   "metadata": {},
   "outputs": [],
   "source": [
    "from scipy.spatial import Delaunay, ConvexHull\n",
    "import numpy as np\n",
    "poly = np.array([[0,0.5,0],[1.8,1,1],[2,2,2.1],[3,3.4,3]])\n",
    "poly= np.array(wulffshape.get_line_in_facet(wulffshape.facets[1]))\n",
    "test = []\n",
    "for i in range(1000):\n",
    "    point = np.array([i,i,i])\n",
    "    test.append(Delaunay(wulffshape.wulff_convex.points).find_simplex(point) >= 0)"
   ]
  },
  {
   "cell_type": "code",
   "execution_count": 105,
   "id": "c3c69b2f",
   "metadata": {},
   "outputs": [
    {
     "data": {
      "text/plain": [
       "8000"
      ]
     },
     "execution_count": 105,
     "metadata": {},
     "output_type": "execute_result"
    }
   ],
   "source": [
    "lattice =  np.array(  [[0.000000000000E+00 ,  0.210850000000E+01 ,  0.210850000000E+01],\n",
    "   [0.210850000000E+01 ,  0.000000000000E+00  , 0.210850000000E+01],\n",
    "   [0.210850000000E+01 ,  0.210850000000E+01 ,  0.000000000000E+00]])\n",
    "structure = Structure(lattice,['Mg','O'],[[0.,0.,0.],[0.5,0.5,0.5]])\n",
    "structure = SpacegroupAnalyzer(structure).get_conventional_standard_structure()\n",
    "\n",
    "supercell_matrix = np.identity(3)*10\n",
    "structure.make_supercell(supercell_matrix)\n",
    "center_of_mass = np.average(structure.cart_coords,axis=0)\n",
    "structure.translate_sites(np.arange(structure.num_sites),-center_of_mass,frac_coords=False,to_unit_cell= False)\n",
    "structure.num_sites"
   ]
  },
  {
   "cell_type": "code",
   "execution_count": 106,
   "id": "fd2ba560",
   "metadata": {},
   "outputs": [
    {
     "data": {
      "text/plain": [
       "80"
      ]
     },
     "execution_count": 106,
     "metadata": {},
     "output_type": "execute_result"
    }
   ],
   "source": [
    "shape = Delaunay(wulffshape.wulff_convex.points*(new_volume**(1/3)/wulffshape.volume**(1/3)))\n",
    "#shape = Delaunay(wulffshape.wulff_convex.points*(wulffshape.volume**(1/3))*(new_volume**(1/3))\n",
    "sites_to_remove = []\n",
    "for i,coord in enumerate(structure.cart_coords):\n",
    "    if (shape.find_simplex(coord) >= 0) == False:\n",
    "        sites_to_remove.append(i)\n",
    "structure.remove_sites(sites_to_remove)\n",
    "structure.num_sites"
   ]
  },
  {
   "cell_type": "code",
   "execution_count": 108,
   "id": "71d32a09",
   "metadata": {},
   "outputs": [
    {
     "data": {
      "text/plain": [
       "<Popen: returncode: None args: ['/Users/brunocamino/miniconda3/envs/test_env...>"
      ]
     },
     "execution_count": 108,
     "metadata": {},
     "output_type": "execute_result"
    },
    {
     "name": "stderr",
     "output_type": "stream",
     "text": [
      "<frozen importlib._bootstrap>:228: RuntimeWarning: scipy._lib.messagestream.MessageStream size changed, may indicate binary incompatibility. Expected 56 from C header, got 64 from PyObject\n"
     ]
    }
   ],
   "source": [
    "view(AseAtomsAdaptor().get_atoms(structure))"
   ]
  },
  {
   "cell_type": "code",
   "execution_count": 119,
   "id": "e7b05506",
   "metadata": {},
   "outputs": [],
   "source": [
    "from pymatgen.analysis.local_env import BrunnerNN_real, CrystalNN"
   ]
  },
  {
   "cell_type": "code",
   "execution_count": 125,
   "id": "33c8d272",
   "metadata": {
    "collapsed": true
   },
   "outputs": [
    {
     "data": {
      "text/plain": [
       "[{'site': PeriodicSite: Mg (-5.2713, -1.0543, 1.0542) [-0.1250, -0.0250, 0.0250],\n",
       "  'image': (0, 0, 0),\n",
       "  'weight': 1.0000291802820345,\n",
       "  'site_index': 30},\n",
       " {'site': PeriodicSite: Mg (-3.1628, -1.0543, 3.1627) [-0.0750, -0.0250, 0.0750],\n",
       "  'image': (0, 0, 0),\n",
       "  'weight': 1.000072950508118,\n",
       "  'site_index': 11},\n",
       " {'site': PeriodicSite: Mg (-3.1628, -1.0543, -1.0543) [-0.0750, -0.0250, -0.0250],\n",
       "  'image': (0, 0, 0),\n",
       "  'weight': 1.148628452586877,\n",
       "  'site_index': 10},\n",
       " {'site': PeriodicSite: Mg (-3.1628, 1.0542, 1.0542) [-0.0750, 0.0250, 0.0250],\n",
       "  'image': (0, 0, 0),\n",
       "  'weight': 1.0,\n",
       "  'site_index': 2},\n",
       " {'site': PeriodicSite: Mg (-1.0543, -1.0543, 1.0542) [-0.0250, -0.0250, 0.0250],\n",
       "  'image': (0, 0, 0),\n",
       "  'weight': 2.0,\n",
       "  'site_index': 33},\n",
       " {'site': PeriodicSite: Mg (1.0542, -3.1628, 1.0542) [0.0250, -0.0750, 0.0250],\n",
       "  'image': (0, 0, 0),\n",
       "  'weight': 1.0,\n",
       "  'site_index': 4},\n",
       " {'site': PeriodicSite: Mg (-1.0543, -3.1628, 3.1627) [-0.0250, -0.0750, 0.0750],\n",
       "  'image': (0, 0, 0),\n",
       "  'weight': 1.000072950508118,\n",
       "  'site_index': 22},\n",
       " {'site': PeriodicSite: Mg (-1.0543, -3.1628, -1.0543) [-0.0250, -0.0750, -0.0250],\n",
       "  'image': (0, 0, 0),\n",
       "  'weight': 1.148628452586877,\n",
       "  'site_index': 21},\n",
       " {'site': PeriodicSite: Mg (-1.0543, -5.2713, 1.0542) [-0.0250, -0.1250, 0.0250],\n",
       "  'image': (0, 0, 0),\n",
       "  'weight': 1.0000291802820345,\n",
       "  'site_index': 31},\n",
       " {'site': PeriodicSite: O (-3.1628, -1.0543, 1.0542) [-0.0750, -0.0250, 0.0250],\n",
       "  'image': (0, 0, 0),\n",
       "  'weight': 0.011459104336159648,\n",
       "  'site_index': 71},\n",
       " {'site': PeriodicSite: O (-1.0543, -1.0543, 3.1627) [-0.0250, -0.0250, 0.0750],\n",
       "  'image': (0, 0, 0),\n",
       "  'weight': 0.015278782863079692,\n",
       "  'site_index': 54},\n",
       " {'site': PeriodicSite: O (-3.1628, 1.0542, 3.1627) [-0.0750, 0.0250, 0.0750],\n",
       "  'image': (0, 0, 0),\n",
       "  'weight': 0.001135430927175215,\n",
       "  'site_index': 62},\n",
       " {'site': PeriodicSite: Mg (-1.0543, -1.0543, 5.2712) [-0.0250, -0.0250, 0.1250],\n",
       "  'image': (0, 0, 0),\n",
       "  'weight': 5.836056406898938e-05,\n",
       "  'site_index': 34},\n",
       " {'site': PeriodicSite: O (-1.0543, -3.1628, 1.0542) [-0.0250, -0.0750, 0.0250],\n",
       "  'image': (0, 0, 0),\n",
       "  'weight': 0.011459104336159648,\n",
       "  'site_index': 42},\n",
       " {'site': PeriodicSite: O (1.0542, -3.1628, 3.1627) [0.0250, -0.0750, 0.0750],\n",
       "  'image': (0, 0, 0),\n",
       "  'weight': 0.001135430927175215,\n",
       "  'site_index': 64},\n",
       " {'site': PeriodicSite: O (1.0542, -5.2713, 1.0542) [0.0250, -0.1250, 0.0250],\n",
       "  'image': (0, 0, 0),\n",
       "  'weight': 0.0002964838942816694,\n",
       "  'site_index': 73},\n",
       " {'site': PeriodicSite: O (-1.0543, -5.2713, -1.0543) [-0.0250, -0.1250, -0.0250],\n",
       "  'image': (0, 0, 0),\n",
       "  'weight': 0.0002964838942816694,\n",
       "  'site_index': 51},\n",
       " {'site': PeriodicSite: O (-5.2713, -1.0543, -1.0543) [-0.1250, -0.0250, -0.0250],\n",
       "  'image': (0, 0, 0),\n",
       "  'weight': 0.0002964838942816694,\n",
       "  'site_index': 50},\n",
       " {'site': PeriodicSite: O (-5.2713, 1.0542, 1.0542) [-0.1250, 0.0250, 0.0250],\n",
       "  'image': (0, 0, 0),\n",
       "  'weight': 0.0002964838942816694,\n",
       "  'site_index': 40}]"
      ]
     },
     "execution_count": 125,
     "metadata": {},
     "output_type": "execute_result"
    }
   ],
   "source": [
    "CrystalNN(structure).get_nn_shell_info(structure,0,2)"
   ]
  },
  {
   "cell_type": "code",
   "execution_count": 128,
   "id": "a9290d41",
   "metadata": {},
   "outputs": [
    {
     "data": {
      "text/plain": [
       "array([ 0.     ,  2.1085 ,  2.98187,  3.65203,  4.217  ,  4.71475,\n",
       "        5.16475,  5.96374,  6.3255 ,  6.66766,  6.9931 ,  7.30406,\n",
       "        7.6023 ,  7.88928,  8.434  ,  8.69357,  8.94561,  9.19074,\n",
       "        9.4295 ,  9.66236, 10.5425 , 10.75128, 10.95609])"
      ]
     },
     "execution_count": 128,
     "metadata": {},
     "output_type": "execute_result"
    }
   ],
   "source": [
    "np.unique(np.round(structure.distance_matrix,5))"
   ]
  },
  {
   "cell_type": "code",
   "execution_count": 15,
   "id": "4101af02",
   "metadata": {},
   "outputs": [],
   "source": [
    "from mendeleev import *"
   ]
  },
  {
   "cell_type": "code",
   "execution_count": 17,
   "id": "a3aa6941",
   "metadata": {},
   "outputs": [
    {
     "data": {
      "text/plain": [
       "12"
      ]
     },
     "execution_count": 17,
     "metadata": {},
     "output_type": "execute_result"
    }
   ],
   "source": [
    "Mg.atomic_number"
   ]
  }
 ],
 "metadata": {
  "kernelspec": {
   "display_name": "Python 3 (ipykernel)",
   "language": "python",
   "name": "python3"
  },
  "language_info": {
   "codemirror_mode": {
    "name": "ipython",
    "version": 3
   },
   "file_extension": ".py",
   "mimetype": "text/x-python",
   "name": "python",
   "nbconvert_exporter": "python",
   "pygments_lexer": "ipython3",
   "version": "3.9.10"
  }
 },
 "nbformat": 4,
 "nbformat_minor": 5
}
